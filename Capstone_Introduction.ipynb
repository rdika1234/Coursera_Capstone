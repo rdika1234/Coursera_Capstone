{
 "cells": [
  {
   "cell_type": "markdown",
   "metadata": {},
   "source": [
    "<h1> PROBLEM & BACKGROUND </h1>"
   ]
  },
  {
   "cell_type": "markdown",
   "metadata": {},
   "source": [
    "<h2> Downtown Toronto Canada and Manhattan New York USA are considered two major tourist spots with lots of multicultural venues. Both are considered financial hubs and with many skyscrapers such as CN Tower in Toronto. It will be interesting to compare the different venues such as restaurants, hotel accommodations, tourist attractions such as Broadway shows and many other Tourist spots. </h2>\n",
    "<br>\n",
    "<h2> Number of Tourists from various parts of the world (Australia, Europe, Asia) when they visit different cities in different countries, they wanted to see different attractions, different food and so forth. They would not like to spend time and money on two different cities for similar experience. Hence, a comparison of Downtown Toronto and Manhattan New York will be valuable for tourist who are travelling from far away so that they can enjoy best of both and feel happy that their time and money are spent wisely. </h2>"
   ]
  },
  {
   "cell_type": "markdown",
   "metadata": {},
   "source": [
    "<br>\n",
    "<h1> DATA DESCRIPTION </h1>\n",
    "<br>\n",
    "<h2> We have explored Manhattan venues in Week3 module hands on lab using Foursquare API. In addition, through the peer graded assignment for Week3, we analyzed Downtown Toronto using Foursquare API as well. Hence, we have obtained Data frames for both Downtown Toronto and Manhattan New York. From the Jupyter notebook for Toronto and Manhattan we can export the data to CSV files and name them DToronto.csv and ManNY.csv. Using these CSV files, we can explore the places around each neighborhood like restaurants, hotels, coffee shops, parks, theaters, art galleries, and many more. We can use machine learning technique, “Clustering” to segment the neighborhoods with similar objects based on each neighborhood data. These objects will be given priority based on foot traffic (activity) in their respective neighborhoods. This will help to locate the various tourist locations and then we can compare the two cities based on the famous tourist locations.</h2>"
   ]
  },
  {
   "cell_type": "code",
   "execution_count": null,
   "metadata": {},
   "outputs": [],
   "source": []
  }
 ],
 "metadata": {
  "kernelspec": {
   "display_name": "Python 3",
   "language": "python",
   "name": "python3"
  },
  "language_info": {
   "codemirror_mode": {
    "name": "ipython",
    "version": 3
   },
   "file_extension": ".py",
   "mimetype": "text/x-python",
   "name": "python",
   "nbconvert_exporter": "python",
   "pygments_lexer": "ipython3",
   "version": "3.8.3"
  }
 },
 "nbformat": 4,
 "nbformat_minor": 4
}
