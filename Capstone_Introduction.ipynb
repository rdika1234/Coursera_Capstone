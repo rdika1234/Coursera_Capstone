{
 "cells": [
  {
   "cell_type": "markdown",
   "metadata": {},
   "source": [
    "<h1> PROBLEM & BACKGROUND </h1>"
   ]
  },
  {
   "cell_type": "markdown",
   "metadata": {},
   "source": [
    "<h2> Downtown Toronto Canada and Manhattan New York USA are considered two major tourist spots with lots of multicultural venues. Both are considered financial hubs and with many skyscrapers such as CN Tower in Toronto. It will be interesting to compare the different venues such as restaurants, hotel accommodations, tourist attractions such as Broadway shows and many other Tourist spots. </h2>\n",
    "<br>\n",
    "<h2> Number of Tourists from various parts of the world (Australia, Europe, Asia) when they visit different cities in different countries, they wanted to see different attractions, different food and so forth. They would not like to spend time and money on two different cities for similar experience. Hence, a comparison of Downtown Toronto and Manhattan New York will be valuable for tourist who are travelling from far away so that they can enjoy best of both and feel happy that their time and money are spent wisely. </h2>"
   ]
  },
  {
   "cell_type": "code",
   "execution_count": null,
   "metadata": {},
   "outputs": [],
   "source": []
  }
 ],
 "metadata": {
  "kernelspec": {
   "display_name": "Python 3",
   "language": "python",
   "name": "python3"
  },
  "language_info": {
   "codemirror_mode": {
    "name": "ipython",
    "version": 3
   },
   "file_extension": ".py",
   "mimetype": "text/x-python",
   "name": "python",
   "nbconvert_exporter": "python",
   "pygments_lexer": "ipython3",
   "version": "3.8.3"
  }
 },
 "nbformat": 4,
 "nbformat_minor": 4
}
